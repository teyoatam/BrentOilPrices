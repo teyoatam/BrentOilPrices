{
 "cells": [
  {
   "cell_type": "code",
   "execution_count": 1,
   "metadata": {},
   "outputs": [],
   "source": [
    "import pandas as pd\n",
    "import numpy as np\n",
    "import matplotlib.pyplot as plt\n",
    "import seaborn as sns"
   ]
  },
  {
   "cell_type": "code",
   "execution_count": 3,
   "metadata": {},
   "outputs": [
    {
     "name": "stderr",
     "output_type": "stream",
     "text": [
      "C:\\Users\\Tesfaye\\AppData\\Local\\Temp\\ipykernel_9272\\2354475765.py:4: UserWarning: The argument 'infer_datetime_format' is deprecated and will be removed in a future version. A strict version of it is now the default, see https://pandas.pydata.org/pdeps/0004-consistent-to-datetime-parsing.html. You can safely remove this argument.\n",
      "  brent_oil_prices['Date'] = pd.to_datetime(brent_oil_prices['Date'], errors='coerce', infer_datetime_format=True)\n",
      "C:\\Users\\Tesfaye\\AppData\\Local\\Temp\\ipykernel_9272\\2354475765.py:4: UserWarning: Could not infer format, so each element will be parsed individually, falling back to `dateutil`. To ensure parsing is consistent and as-expected, please specify a format.\n",
      "  brent_oil_prices['Date'] = pd.to_datetime(brent_oil_prices['Date'], errors='coerce', infer_datetime_format=True)\n"
     ]
    }
   ],
   "source": [
    "# Load the Brent Oil Prices data\n",
    "brent_oil_prices =  pd.read_csv('../data/BrentOilPrices.csv')\n",
    "# Convert the 'Date' column to datetime, handling inconsistencies\n",
    "brent_oil_prices['Date'] = pd.to_datetime(brent_oil_prices['Date'], errors='coerce', infer_datetime_format=True)\n",
    "brent_oil_prices['Year'] = brent_oil_prices['Date'].dt.year\n",
    "# Load the population data\n",
    "population_data = pd.read_csv('../data/population_total_long.csv')"
   ]
  },
  {
   "cell_type": "code",
   "execution_count": 4,
   "metadata": {},
   "outputs": [
    {
     "data": {
      "text/html": [
       "<div>\n",
       "<style scoped>\n",
       "    .dataframe tbody tr th:only-of-type {\n",
       "        vertical-align: middle;\n",
       "    }\n",
       "\n",
       "    .dataframe tbody tr th {\n",
       "        vertical-align: top;\n",
       "    }\n",
       "\n",
       "    .dataframe thead th {\n",
       "        text-align: right;\n",
       "    }\n",
       "</style>\n",
       "<table border=\"1\" class=\"dataframe\">\n",
       "  <thead>\n",
       "    <tr style=\"text-align: right;\">\n",
       "      <th></th>\n",
       "      <th>Date</th>\n",
       "      <th>Price</th>\n",
       "      <th>Year</th>\n",
       "    </tr>\n",
       "  </thead>\n",
       "  <tbody>\n",
       "    <tr>\n",
       "      <th>0</th>\n",
       "      <td>1987-05-20</td>\n",
       "      <td>18.63</td>\n",
       "      <td>1987</td>\n",
       "    </tr>\n",
       "    <tr>\n",
       "      <th>1</th>\n",
       "      <td>1987-05-21</td>\n",
       "      <td>18.45</td>\n",
       "      <td>1987</td>\n",
       "    </tr>\n",
       "    <tr>\n",
       "      <th>2</th>\n",
       "      <td>1987-05-22</td>\n",
       "      <td>18.55</td>\n",
       "      <td>1987</td>\n",
       "    </tr>\n",
       "    <tr>\n",
       "      <th>3</th>\n",
       "      <td>1987-05-25</td>\n",
       "      <td>18.60</td>\n",
       "      <td>1987</td>\n",
       "    </tr>\n",
       "    <tr>\n",
       "      <th>4</th>\n",
       "      <td>1987-05-26</td>\n",
       "      <td>18.63</td>\n",
       "      <td>1987</td>\n",
       "    </tr>\n",
       "    <tr>\n",
       "      <th>...</th>\n",
       "      <td>...</td>\n",
       "      <td>...</td>\n",
       "      <td>...</td>\n",
       "    </tr>\n",
       "    <tr>\n",
       "      <th>9006</th>\n",
       "      <td>2022-11-08</td>\n",
       "      <td>96.85</td>\n",
       "      <td>2022</td>\n",
       "    </tr>\n",
       "    <tr>\n",
       "      <th>9007</th>\n",
       "      <td>2022-11-09</td>\n",
       "      <td>93.05</td>\n",
       "      <td>2022</td>\n",
       "    </tr>\n",
       "    <tr>\n",
       "      <th>9008</th>\n",
       "      <td>2022-11-10</td>\n",
       "      <td>94.25</td>\n",
       "      <td>2022</td>\n",
       "    </tr>\n",
       "    <tr>\n",
       "      <th>9009</th>\n",
       "      <td>2022-11-11</td>\n",
       "      <td>96.37</td>\n",
       "      <td>2022</td>\n",
       "    </tr>\n",
       "    <tr>\n",
       "      <th>9010</th>\n",
       "      <td>2022-11-14</td>\n",
       "      <td>93.59</td>\n",
       "      <td>2022</td>\n",
       "    </tr>\n",
       "  </tbody>\n",
       "</table>\n",
       "<p>9011 rows × 3 columns</p>\n",
       "</div>"
      ],
      "text/plain": [
       "           Date  Price  Year\n",
       "0    1987-05-20  18.63  1987\n",
       "1    1987-05-21  18.45  1987\n",
       "2    1987-05-22  18.55  1987\n",
       "3    1987-05-25  18.60  1987\n",
       "4    1987-05-26  18.63  1987\n",
       "...         ...    ...   ...\n",
       "9006 2022-11-08  96.85  2022\n",
       "9007 2022-11-09  93.05  2022\n",
       "9008 2022-11-10  94.25  2022\n",
       "9009 2022-11-11  96.37  2022\n",
       "9010 2022-11-14  93.59  2022\n",
       "\n",
       "[9011 rows x 3 columns]"
      ]
     },
     "execution_count": 4,
     "metadata": {},
     "output_type": "execute_result"
    }
   ],
   "source": [
    "brent_oil_prices "
   ]
  },
  {
   "cell_type": "code",
   "execution_count": 5,
   "metadata": {},
   "outputs": [
    {
     "data": {
      "text/html": [
       "<div>\n",
       "<style scoped>\n",
       "    .dataframe tbody tr th:only-of-type {\n",
       "        vertical-align: middle;\n",
       "    }\n",
       "\n",
       "    .dataframe tbody tr th {\n",
       "        vertical-align: top;\n",
       "    }\n",
       "\n",
       "    .dataframe thead th {\n",
       "        text-align: right;\n",
       "    }\n",
       "</style>\n",
       "<table border=\"1\" class=\"dataframe\">\n",
       "  <thead>\n",
       "    <tr style=\"text-align: right;\">\n",
       "      <th></th>\n",
       "      <th>Country Name</th>\n",
       "      <th>Year</th>\n",
       "      <th>Count</th>\n",
       "    </tr>\n",
       "  </thead>\n",
       "  <tbody>\n",
       "    <tr>\n",
       "      <th>0</th>\n",
       "      <td>Aruba</td>\n",
       "      <td>1960</td>\n",
       "      <td>54211</td>\n",
       "    </tr>\n",
       "    <tr>\n",
       "      <th>1</th>\n",
       "      <td>Afghanistan</td>\n",
       "      <td>1960</td>\n",
       "      <td>8996973</td>\n",
       "    </tr>\n",
       "    <tr>\n",
       "      <th>2</th>\n",
       "      <td>Angola</td>\n",
       "      <td>1960</td>\n",
       "      <td>5454933</td>\n",
       "    </tr>\n",
       "    <tr>\n",
       "      <th>3</th>\n",
       "      <td>Albania</td>\n",
       "      <td>1960</td>\n",
       "      <td>1608800</td>\n",
       "    </tr>\n",
       "    <tr>\n",
       "      <th>4</th>\n",
       "      <td>Andorra</td>\n",
       "      <td>1960</td>\n",
       "      <td>13411</td>\n",
       "    </tr>\n",
       "    <tr>\n",
       "      <th>...</th>\n",
       "      <td>...</td>\n",
       "      <td>...</td>\n",
       "      <td>...</td>\n",
       "    </tr>\n",
       "    <tr>\n",
       "      <th>12590</th>\n",
       "      <td>Kosovo</td>\n",
       "      <td>2017</td>\n",
       "      <td>1830700</td>\n",
       "    </tr>\n",
       "    <tr>\n",
       "      <th>12591</th>\n",
       "      <td>Yemen, Rep.</td>\n",
       "      <td>2017</td>\n",
       "      <td>27834821</td>\n",
       "    </tr>\n",
       "    <tr>\n",
       "      <th>12592</th>\n",
       "      <td>South Africa</td>\n",
       "      <td>2017</td>\n",
       "      <td>57000451</td>\n",
       "    </tr>\n",
       "    <tr>\n",
       "      <th>12593</th>\n",
       "      <td>Zambia</td>\n",
       "      <td>2017</td>\n",
       "      <td>16853688</td>\n",
       "    </tr>\n",
       "    <tr>\n",
       "      <th>12594</th>\n",
       "      <td>Zimbabwe</td>\n",
       "      <td>2017</td>\n",
       "      <td>14236745</td>\n",
       "    </tr>\n",
       "  </tbody>\n",
       "</table>\n",
       "<p>12595 rows × 3 columns</p>\n",
       "</div>"
      ],
      "text/plain": [
       "       Country Name  Year     Count\n",
       "0             Aruba  1960     54211\n",
       "1       Afghanistan  1960   8996973\n",
       "2            Angola  1960   5454933\n",
       "3           Albania  1960   1608800\n",
       "4           Andorra  1960     13411\n",
       "...             ...   ...       ...\n",
       "12590        Kosovo  2017   1830700\n",
       "12591   Yemen, Rep.  2017  27834821\n",
       "12592  South Africa  2017  57000451\n",
       "12593        Zambia  2017  16853688\n",
       "12594      Zimbabwe  2017  14236745\n",
       "\n",
       "[12595 rows x 3 columns]"
      ]
     },
     "execution_count": 5,
     "metadata": {},
     "output_type": "execute_result"
    }
   ],
   "source": [
    "population_data"
   ]
  },
  {
   "cell_type": "code",
   "execution_count": 6,
   "metadata": {},
   "outputs": [
    {
     "name": "stdout",
     "output_type": "stream",
     "text": [
      "Merging completed and saved to 'merged_data.csv'\n"
     ]
    }
   ],
   "source": [
    "# Merge both DataFrames on the date\n",
    "merged_data = pd.merge(brent_oil_prices, population_data, left_on='Year', right_on='Year', how='inner')\n",
    "\n",
    "# Drop the redundant 'Year' column after merge\n",
    "merged_data.drop(columns=['Year'], inplace=True)\n",
    "\n",
    "# Save the merged data to a new CSV file\n",
    "merged_data.to_csv('merged_data.csv', index=False)\n",
    "\n",
    "print(\"Merging completed and saved to 'merged_data.csv'\")"
   ]
  },
  {
   "cell_type": "code",
   "execution_count": 7,
   "metadata": {},
   "outputs": [
    {
     "name": "stdout",
     "output_type": "stream",
     "text": [
      "<class 'pandas.core.frame.DataFrame'>\n",
      "RangeIndex: 1695750 entries, 0 to 1695749\n",
      "Data columns (total 4 columns):\n",
      " #   Column        Dtype         \n",
      "---  ------        -----         \n",
      " 0   Date          datetime64[ns]\n",
      " 1   Price         float64       \n",
      " 2   Country Name  object        \n",
      " 3   Count         int64         \n",
      "dtypes: datetime64[ns](1), float64(1), int64(1), object(1)\n",
      "memory usage: 51.8+ MB\n"
     ]
    },
    {
     "data": {
      "text/html": [
       "<div>\n",
       "<style scoped>\n",
       "    .dataframe tbody tr th:only-of-type {\n",
       "        vertical-align: middle;\n",
       "    }\n",
       "\n",
       "    .dataframe tbody tr th {\n",
       "        vertical-align: top;\n",
       "    }\n",
       "\n",
       "    .dataframe thead th {\n",
       "        text-align: right;\n",
       "    }\n",
       "</style>\n",
       "<table border=\"1\" class=\"dataframe\">\n",
       "  <thead>\n",
       "    <tr style=\"text-align: right;\">\n",
       "      <th></th>\n",
       "      <th>Date</th>\n",
       "      <th>Price</th>\n",
       "      <th>Country Name</th>\n",
       "      <th>Count</th>\n",
       "    </tr>\n",
       "  </thead>\n",
       "  <tbody>\n",
       "    <tr>\n",
       "      <th>0</th>\n",
       "      <td>1987-05-20</td>\n",
       "      <td>18.63</td>\n",
       "      <td>Aruba</td>\n",
       "      <td>61833</td>\n",
       "    </tr>\n",
       "    <tr>\n",
       "      <th>1</th>\n",
       "      <td>1987-05-20</td>\n",
       "      <td>18.63</td>\n",
       "      <td>Afghanistan</td>\n",
       "      <td>11604534</td>\n",
       "    </tr>\n",
       "    <tr>\n",
       "      <th>2</th>\n",
       "      <td>1987-05-20</td>\n",
       "      <td>18.63</td>\n",
       "      <td>Angola</td>\n",
       "      <td>10689250</td>\n",
       "    </tr>\n",
       "    <tr>\n",
       "      <th>3</th>\n",
       "      <td>1987-05-20</td>\n",
       "      <td>18.63</td>\n",
       "      <td>Albania</td>\n",
       "      <td>3083605</td>\n",
       "    </tr>\n",
       "    <tr>\n",
       "      <th>4</th>\n",
       "      <td>1987-05-20</td>\n",
       "      <td>18.63</td>\n",
       "      <td>Andorra</td>\n",
       "      <td>48455</td>\n",
       "    </tr>\n",
       "    <tr>\n",
       "      <th>...</th>\n",
       "      <td>...</td>\n",
       "      <td>...</td>\n",
       "      <td>...</td>\n",
       "      <td>...</td>\n",
       "    </tr>\n",
       "    <tr>\n",
       "      <th>1695745</th>\n",
       "      <td>2017-12-29</td>\n",
       "      <td>66.73</td>\n",
       "      <td>Kosovo</td>\n",
       "      <td>1830700</td>\n",
       "    </tr>\n",
       "    <tr>\n",
       "      <th>1695746</th>\n",
       "      <td>2017-12-29</td>\n",
       "      <td>66.73</td>\n",
       "      <td>Yemen, Rep.</td>\n",
       "      <td>27834821</td>\n",
       "    </tr>\n",
       "    <tr>\n",
       "      <th>1695747</th>\n",
       "      <td>2017-12-29</td>\n",
       "      <td>66.73</td>\n",
       "      <td>South Africa</td>\n",
       "      <td>57000451</td>\n",
       "    </tr>\n",
       "    <tr>\n",
       "      <th>1695748</th>\n",
       "      <td>2017-12-29</td>\n",
       "      <td>66.73</td>\n",
       "      <td>Zambia</td>\n",
       "      <td>16853688</td>\n",
       "    </tr>\n",
       "    <tr>\n",
       "      <th>1695749</th>\n",
       "      <td>2017-12-29</td>\n",
       "      <td>66.73</td>\n",
       "      <td>Zimbabwe</td>\n",
       "      <td>14236745</td>\n",
       "    </tr>\n",
       "  </tbody>\n",
       "</table>\n",
       "<p>1695750 rows × 4 columns</p>\n",
       "</div>"
      ],
      "text/plain": [
       "              Date  Price  Country Name     Count\n",
       "0       1987-05-20  18.63         Aruba     61833\n",
       "1       1987-05-20  18.63   Afghanistan  11604534\n",
       "2       1987-05-20  18.63        Angola  10689250\n",
       "3       1987-05-20  18.63       Albania   3083605\n",
       "4       1987-05-20  18.63       Andorra     48455\n",
       "...            ...    ...           ...       ...\n",
       "1695745 2017-12-29  66.73        Kosovo   1830700\n",
       "1695746 2017-12-29  66.73   Yemen, Rep.  27834821\n",
       "1695747 2017-12-29  66.73  South Africa  57000451\n",
       "1695748 2017-12-29  66.73        Zambia  16853688\n",
       "1695749 2017-12-29  66.73      Zimbabwe  14236745\n",
       "\n",
       "[1695750 rows x 4 columns]"
      ]
     },
     "execution_count": 7,
     "metadata": {},
     "output_type": "execute_result"
    }
   ],
   "source": [
    "merged_data.info()\n",
    "merged_data"
   ]
  },
  {
   "cell_type": "code",
   "execution_count": 8,
   "metadata": {},
   "outputs": [
    {
     "name": "stdout",
     "output_type": "stream",
     "text": [
      "Date            0\n",
      "Price           0\n",
      "Country Name    0\n",
      "Count           0\n",
      "dtype: int64\n"
     ]
    },
    {
     "name": "stderr",
     "output_type": "stream",
     "text": [
      "C:\\Users\\Tesfaye\\AppData\\Local\\Temp\\ipykernel_9272\\1574847664.py:5: FutureWarning: A value is trying to be set on a copy of a DataFrame or Series through chained assignment using an inplace method.\n",
      "The behavior will change in pandas 3.0. This inplace method will never work because the intermediate object on which we are setting values always behaves as a copy.\n",
      "\n",
      "For example, when doing 'df[col].method(value, inplace=True)', try using 'df.method({col: value}, inplace=True)' or df[col] = df[col].method(value) instead, to perform the operation inplace on the original object.\n",
      "\n",
      "\n",
      "  merged_data['Price'].fillna(method='ffill', inplace=True)\n",
      "C:\\Users\\Tesfaye\\AppData\\Local\\Temp\\ipykernel_9272\\1574847664.py:5: FutureWarning: Series.fillna with 'method' is deprecated and will raise in a future version. Use obj.ffill() or obj.bfill() instead.\n",
      "  merged_data['Price'].fillna(method='ffill', inplace=True)\n"
     ]
    },
    {
     "data": {
      "image/png": "[encoded data removed]",
      "text/plain": [
       "<Figure size 1000x500 with 1 Axes>"
      ]
     },
     "metadata": {},
     "output_type": "display_data"
    }
   ],
   "source": [
    "# Check for missing values\n",
    "print(merged_data.isnull().sum())\n",
    "\n",
    "# Fill missing values through forward fill\n",
    "merged_data['Price'].fillna(method='ffill', inplace=True)\n",
    "\n",
    "# Check for outliers\n",
    "plt.figure(figsize=(10, 5))\n",
    "sns.boxplot(x=merged_data['Price'])\n",
    "plt.title('Boxplot of Brent Oil Prices')\n",
    "plt.show()"
   ]
  },
  {
   "cell_type": "code",
   "execution_count": 9,
   "metadata": {},
   "outputs": [],
   "source": [
    "# Select only numeric columns\n",
    "numeric_data = merged_data.select_dtypes(include=[float, int])\n",
    "\n",
    "# Calculate the correlation matrix\n",
    "correlation_matrix = numeric_data.corr()"
   ]
  },
  {
   "cell_type": "code",
   "execution_count": 10,
   "metadata": {},
   "outputs": [
    {
     "data": {
      "image/png": "[encoded data removed]",
      "text/plain": [
       "<Figure size 640x480 with 2 Axes>"
      ]
     },
     "metadata": {},
     "output_type": "display_data"
    }
   ],
   "source": [
    "# Plot the correlation matrix\n",
    "sns.heatmap(correlation_matrix, annot=True, cmap='coolwarm', fmt='.2f')\n",
    "plt.title('Correlation Matrix')\n",
    "plt.show()"
   ]
  }
 ],
 "metadata": {
  "kernelspec": {
   "display_name": "Python 3",
   "language": "python",
   "name": "python3"
  },
  "language_info": {
   "codemirror_mode": {
    "name": "ipython",
    "version": 3
   },
   "file_extension": ".py",
   "mimetype": "text/x-python",
   "name": "python",
   "nbconvert_exporter": "python",
   "pygments_lexer": "ipython3",
   "version": "3.12.5"
  }
 },
 "nbformat": 4,
 "nbformat_minor": 2
}
