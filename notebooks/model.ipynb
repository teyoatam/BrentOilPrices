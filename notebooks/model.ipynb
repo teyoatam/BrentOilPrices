{
 "cells": [
  {
   "cell_type": "code",
   "execution_count": null,
   "metadata": {},
   "outputs": [],
   "source": [
    "python\n",
    "\n",
    "Copy\n",
    "# Load natural gas and coal prices\n",
    "ng_data = pd.read_csv('natural_gas_prices.csv', parse_dates=['Date'], index_col='Date')\n",
    "coal_data = pd.read_csv('coal_prices.csv', parse_dates=['Date'], index_col='Date')\n",
    "\n",
    "# Load economic indicators\n",
    "gdp_data = pd.read_csv('gdp_data.csv', parse_dates=['Date'], index_col='Date')\n",
    "inflation_data = pd.read_csv('inflation_data.csv', parse_dates=['Date'], index_col='Date')"
   ]
  },
  {
   "cell_type": "code",
   "execution_count": null,
   "metadata": {},
   "outputs": [],
   "source": [
    "# Check for missing values\n",
    "print(ng_data.isnull().sum())\n",
    "print(coal_data.isnull().sum())\n",
    "\n",
    "# Fill missing values\n",
    "ng_data.fillna(method='ffill', inplace=True)\n",
    "coal_data.fillna(method='ffill', inplace=True)\n",
    "\n",
    "# Remove outliers (example using z-score)\n",
    "from scipy import stats\n",
    "ng_data = ng_data[(np.abs(stats.zscore(ng_data['Price'])) < 3)]\n",
    "coal_data = coal_data[(np.abs(stats.zscore(coal_data['Price'])) < 3)]"
   ]
  },
  {
   "cell_type": "code",
   "execution_count": null,
   "metadata": {},
   "outputs": [],
   "source": [
    "# Combine datasets for EDA\n",
    "merged_ng = pd.merge(ng_data, gdp_data, on='Date', how='inner')\n",
    "merged_coal = pd.merge(coal_data, gdp_data, on='Date', how='inner')\n",
    "\n",
    "# Plotting Natural Gas Prices vs. GDP\n",
    "plt.figure(figsize=(12, 6))\n",
    "sns.scatterplot(x='GDP', y='Price', data=merged_ng)\n",
    "plt.title('Natural Gas Prices vs. GDP')\n",
    "plt.xlabel('GDP Growth Rate')\n",
    "plt.ylabel('Natural Gas Price (USD)')\n",
    "plt.show()\n",
    "\n",
    "# Correlation matrix\n",
    "plt.figure(figsize=(10, 8))\n",
    "sns.heatmap(merged_ng.corr(), annot=True, cmap='coolwarm', fmt='.2f')\n",
    "plt.title('Correlation Matrix for Natural Gas Data')\n",
    "plt.show()"
   ]
  },
  {
   "cell_type": "code",
   "execution_count": null,
   "metadata": {},
   "outputs": [],
   "source": [
    "from statsmodels.tsa.arima.model import ARIMA\n",
    "\n",
    "# Fit ARIMA model\n",
    "ng_model = ARIMA(ng_data['Price'], order=(5, 1, 0))\n",
    "ng_model_fit = ng_model.fit()\n",
    "print(ng_model_fit.summary())"
   ]
  },
  {
   "cell_type": "code",
   "execution_count": null,
   "metadata": {},
   "outputs": [],
   "source": [
    "from sklearn.ensemble import RandomForestRegressor\n",
    "from sklearn.model_selection import train_test_split\n",
    "\n",
    "# Prepare features and target\n",
    "X = merged_ng[['GDP', 'Inflation']]  # Add more features as necessary\n",
    "y = merged_ng['Price']\n",
    "\n",
    "# Split data\n",
    "X_train, X_test, y_train, y_test = train_test_split(X, y, test_size=0.2, random_state=42)\n",
    "\n",
    "# Fit Random Forest model\n",
    "rf_model = RandomForestRegressor(n_estimators=100)\n",
    "rf_model.fit(X_train, y_train)"
   ]
  },
  {
   "cell_type": "code",
   "execution_count": null,
   "metadata": {},
   "outputs": [],
   "source": [
    "from sklearn.metrics import mean_squared_error, mean_absolute_error, r2_score\n",
    "\n",
    "# Predictions\n",
    "ng_predictions = ng_model_fit.forecast(steps=len(X_test))\n",
    "rf_predictions = rf_model.predict(X_test)\n",
    "\n",
    "# Calculate metrics\n",
    "ng_rmse = np.sqrt(mean_squared_error(y_test, ng_predictions))\n",
    "rf_rmse = np.sqrt(mean_squared_error(y_test, rf_predictions))\n",
    "\n",
    "print(f'ARIMA RMSE: {ng_rmse}')\n",
    "print(f'Random Forest RMSE: {rf_rmse}')"
   ]
  },
  {
   "cell_type": "code",
   "execution_count": null,
   "metadata": {},
   "outputs": [],
   "source": [
    "# Feature Importance for Random Forest\n",
    "importances = rf_model.feature_importances_\n",
    "feature_names = X.columns\n",
    "\n",
    "# Visualize feature importance\n",
    "plt.figure(figsize=(10, 6))\n",
    "sns.barplot(x=importances, y=feature_names)\n",
    "plt.title('Feature Importance in Random Forest Model')\n",
    "plt.show()"
   ]
  },
  {
   "cell_type": "code",
   "execution_count": null,
   "metadata": {},
   "outputs": [],
   "source": [
    "python\n",
    "\n",
    "Copy\n",
    "# Backtesting example (using last year as test)\n",
    "backtest_data = ng_data[-365:]  # Last year of data\n",
    "backtest_predictions = ng_model_fit.forecast(steps=len(backtest_data))\n",
    "\n",
    "# Compare predictions with actual values\n",
    "plt.figure(figsize=(14, 7))\n",
    "plt.plot(backtest_data.index, backtest_data['Price'], label='Actual Prices', color='blue')\n",
    "plt.plot(backtest_data.index, backtest_predictions, label='Predicted Prices', color='orange')\n",
    "plt.title('Backtesting Natural Gas Prices')\n",
    "plt.xlabel('Date')\n",
    "plt.ylabel('Price (USD)')\n",
    "plt.legend()\n",
    "plt.show()"
   ]
  }
 ],
 "metadata": {
  "language_info": {
   "name": "python"
  }
 },
 "nbformat": 4,
 "nbformat_minor": 2
}
